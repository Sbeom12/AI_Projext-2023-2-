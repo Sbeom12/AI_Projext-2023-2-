{
  "nbformat": 4,
  "nbformat_minor": 0,
  "metadata": {
    "colab": {
      "provenance": [],
      "gpuType": "A100",
      "machine_shape": "hm"
    },
    "kernelspec": {
      "name": "python3",
      "display_name": "Python 3"
    },
    "language_info": {
      "name": "python"
    },
    "accelerator": "GPU"
  },
  "cells": [
    {
      "cell_type": "code",
      "source": [
        "from google.colab import drive\n",
        "drive.mount('/content/drive')"
      ],
      "metadata": {
        "colab": {
          "base_uri": "https://localhost:8080/"
        },
        "id": "QGS32toX0NRf",
        "outputId": "4222de9c-f083-4079-ae04-6d0fc5c40a35"
      },
      "execution_count": 3,
      "outputs": [
        {
          "output_type": "stream",
          "name": "stdout",
          "text": [
            "Drive already mounted at /content/drive; to attempt to forcibly remount, call drive.mount(\"/content/drive\", force_remount=True).\n"
          ]
        }
      ]
    },
    {
      "cell_type": "markdown",
      "source": [
        "* 기존과 동일한 전처리 및 + 형태소 분석 + 불용어 처리한 데이터를 불러오기"
      ],
      "metadata": {
        "id": "BP1ls5GR0XUb"
      }
    },
    {
      "cell_type": "code",
      "source": [
        "from konlpy.tag import Mecab\n",
        "mecab = Mecab()\n",
        "# 형태소 분석\n",
        "naver['tokenized'] = naver['데이터'].apply(mecab.morphs)\n",
        "steam['tokenized'] = steam['데이터'].apply(mecab.morphs)\n",
        "total['tokenized'] = total['데이터'].apply(mecab.morphs)\n",
        "\n",
        "# 불용어 지정.\n",
        "stopwords = ['도', '는', '다', '의', '가', '이', '은', '한', '에', '하', '고', '을', '를', '인', '듯', '과', '와', '네', '들', '듯', '지', '임', '게']\n",
        "\n",
        "# 불용어 제거\n",
        "naver['tokenized'] = naver['tokenized'].apply(lambda x: [item for item in x if item not in stopwords])\n",
        "steam['tokenized'] = steam['tokenized'].apply(lambda x: [item for item in x if item not in stopwords])\n",
        "total['tokenized'] = total['tokenized'].apply(lambda x: [item for item in x if item not in stopwords])"
      ],
      "metadata": {
        "id": "XhebQSvK1H22",
        "colab": {
          "base_uri": "https://localhost:8080/",
          "height": 399
        },
        "outputId": "1624a0f5-297b-4b55-b3a7-e86e7590cc20"
      },
      "execution_count": 2,
      "outputs": [
        {
          "output_type": "error",
          "ename": "ModuleNotFoundError",
          "evalue": "ignored",
          "traceback": [
            "\u001b[0;31m---------------------------------------------------------------------------\u001b[0m",
            "\u001b[0;31mModuleNotFoundError\u001b[0m                       Traceback (most recent call last)",
            "\u001b[0;32m<ipython-input-2-e1c2ad6a37a7>\u001b[0m in \u001b[0;36m<cell line: 1>\u001b[0;34m()\u001b[0m\n\u001b[0;32m----> 1\u001b[0;31m \u001b[0;32mfrom\u001b[0m \u001b[0mkonlpy\u001b[0m\u001b[0;34m.\u001b[0m\u001b[0mtag\u001b[0m \u001b[0;32mimport\u001b[0m \u001b[0mMecab\u001b[0m\u001b[0;34m\u001b[0m\u001b[0;34m\u001b[0m\u001b[0m\n\u001b[0m\u001b[1;32m      2\u001b[0m \u001b[0mmecab\u001b[0m \u001b[0;34m=\u001b[0m \u001b[0mMecab\u001b[0m\u001b[0;34m(\u001b[0m\u001b[0;34m)\u001b[0m\u001b[0;34m\u001b[0m\u001b[0;34m\u001b[0m\u001b[0m\n\u001b[1;32m      3\u001b[0m \u001b[0;31m# 형태소 분석\u001b[0m\u001b[0;34m\u001b[0m\u001b[0;34m\u001b[0m\u001b[0m\n\u001b[1;32m      4\u001b[0m \u001b[0mnaver\u001b[0m\u001b[0;34m[\u001b[0m\u001b[0;34m'tokenized'\u001b[0m\u001b[0;34m]\u001b[0m \u001b[0;34m=\u001b[0m \u001b[0mnaver\u001b[0m\u001b[0;34m[\u001b[0m\u001b[0;34m'데이터'\u001b[0m\u001b[0;34m]\u001b[0m\u001b[0;34m.\u001b[0m\u001b[0mapply\u001b[0m\u001b[0;34m(\u001b[0m\u001b[0mmecab\u001b[0m\u001b[0;34m.\u001b[0m\u001b[0mmorphs\u001b[0m\u001b[0;34m)\u001b[0m\u001b[0;34m\u001b[0m\u001b[0;34m\u001b[0m\u001b[0m\n\u001b[1;32m      5\u001b[0m \u001b[0msteam\u001b[0m\u001b[0;34m[\u001b[0m\u001b[0;34m'tokenized'\u001b[0m\u001b[0;34m]\u001b[0m \u001b[0;34m=\u001b[0m \u001b[0msteam\u001b[0m\u001b[0;34m[\u001b[0m\u001b[0;34m'데이터'\u001b[0m\u001b[0;34m]\u001b[0m\u001b[0;34m.\u001b[0m\u001b[0mapply\u001b[0m\u001b[0;34m(\u001b[0m\u001b[0mmecab\u001b[0m\u001b[0;34m.\u001b[0m\u001b[0mmorphs\u001b[0m\u001b[0;34m)\u001b[0m\u001b[0;34m\u001b[0m\u001b[0;34m\u001b[0m\u001b[0m\n",
            "\u001b[0;31mModuleNotFoundError\u001b[0m: No module named 'konlpy'",
            "",
            "\u001b[0;31m---------------------------------------------------------------------------\u001b[0;32m\nNOTE: If your import is failing due to a missing package, you can\nmanually install dependencies using either !pip or !apt.\n\nTo view examples of installing some common dependencies, click the\n\"Open Examples\" button below.\n\u001b[0;31m---------------------------------------------------------------------------\u001b[0m\n"
          ],
          "errorDetails": {
            "actions": [
              {
                "action": "open_url",
                "actionText": "Open Examples",
                "url": "/notebooks/snippets/importing_libraries.ipynb"
              }
            ]
          }
        }
      ]
    },
    {
      "cell_type": "code",
      "execution_count": 4,
      "metadata": {
        "id": "yeF5gvLWz0fA"
      },
      "outputs": [],
      "source": [
        "import pandas as pd\n",
        "naver = pd.read_csv('/content/drive/MyDrive/딥러닝 공부/연구실 프로젝트 1/naver_token')\n",
        "steam = pd.read_csv('/content/drive/MyDrive/딥러닝 공부/연구실 프로젝트 1/steam_token')\n",
        "total = pd.read_csv('/content/drive/MyDrive/딥러닝 공부/연구실 프로젝트 1/total_token')"
      ]
    },
    {
      "cell_type": "markdown",
      "source": [
        "# 워드 임배딩\n",
        "* genism Word2Vec 사용.\n",
        "*"
      ],
      "metadata": {
        "id": "IB1ySQztkMGL"
      }
    },
    {
      "cell_type": "code",
      "source": [
        "from tensorflow.keras.preprocessing.sequence import pad_sequences\n",
        "from tensorflow.keras.utils import to_categorical\n",
        "from sklearn.model_selection import train_test_split\n",
        "from gensim.models import Word2Vec\n",
        "\n",
        "sentences = [row.split() for row in naver['tokenized']]\n",
        "W2V_n = Word2Vec(sentences=sentences, vector_size=300, window=5, min_count=2, workers=4, sg=1)"
      ],
      "metadata": {
        "id": "cfRhfDJVTK_R"
      },
      "execution_count": 5,
      "outputs": []
    },
    {
      "cell_type": "code",
      "source": [
        "# dictionary 생성 후 sequence로 변환\n",
        "word_to_index = {word: index for index, word in enumerate(W2V_n.wv.index_to_key)}\n",
        "# 워드 임배딩 결과를 각 정수로 반환\n",
        "def to_sequence(row):\n",
        "    res = []\n",
        "    for word in row.split():\n",
        "        try:\n",
        "            res.append(word_to_index[word])\n",
        "        except KeyError:\n",
        "            res.append(0)\n",
        "    return res\n",
        "\n",
        "naver['sequence'] = naver['tokenized'].apply(to_sequence)\n",
        "max_length_n = max(naver['sequence'].apply(len))\n",
        "# 길이 맞추기 및 one-hot encoding\n",
        "X = pad_sequences(naver['sequence'].values, maxlen=max_length_n, padding='post')\n",
        "y = to_categorical(naver['label'].values, num_classes=2)\n",
        "\n",
        "# 분리\n",
        "train_X_n, test_X_n, train_y_n, test_y_n = train_test_split(X, y, test_size=0.2, random_state=42)"
      ],
      "metadata": {
        "id": "0IL1EWO3m81g"
      },
      "execution_count": 6,
      "outputs": []
    },
    {
      "cell_type": "code",
      "source": [
        "import numpy as np\n",
        "import tensorflow as tf\n",
        "from tensorflow.keras import layers\n",
        "from tensorflow.keras.models import Sequential\n",
        "from tensorflow.keras.optimizers import AdamW\n",
        "from tensorflow.keras.callbacks import EarlyStopping, ModelCheckpoint\n",
        "\n",
        "embedding_dim = 300 # 위에서 임배딩의 300으로 바궜으므로.\n",
        "vocab_size = len(word_to_index)\n",
        "\n",
        "model_n = Sequential([\n",
        "  layers.Embedding(input_dim=vocab_size, output_dim=embedding_dim, input_length=max_length_n),\n",
        "  layers.GRU(units=128, dropout=0.2),\n",
        "  layers.Dense(2, activation='elu')\n",
        "])\n",
        "\n",
        "early_stop1 = EarlyStopping(monitor = 'val_loss', mode = 'min', patience = 5, verbose = 1)\n",
        "checkpoint_n = ModelCheckpoint('naver_we.h5', monitor = 'val_accuracy', mode = 'max', verbose =1, save_best_only = True)\n",
        "optimizer_adamw = AdamW(weight_decay=1e-4)\n",
        "\n",
        "model_n.compile(optimizer= optimizer_adamw, loss='categorical_crossentropy', metrics=['accuracy'])\n",
        "history_naver = model_n.fit(train_X_n, train_y_n, epochs = 100, callbacks = [early_stop1, checkpoint_n], batch_size = 128, validation_split = 0.15)"
      ],
      "metadata": {
        "colab": {
          "base_uri": "https://localhost:8080/"
        },
        "id": "7G2RsniIkk7X",
        "outputId": "21a03fe5-fee7-4b14-fa7a-eef2bf7cc7f5"
      },
      "execution_count": 7,
      "outputs": [
        {
          "output_type": "stream",
          "name": "stdout",
          "text": [
            "Epoch 1/100\n",
            "1063/1063 [==============================] - ETA: 0s - loss: 8.0583 - accuracy: 0.4999\n",
            "Epoch 1: val_accuracy improved from -inf to 0.49927, saving model to naver_we.h5\n",
            "1063/1063 [==============================] - 61s 50ms/step - loss: 8.0583 - accuracy: 0.4999 - val_loss: 8.0708 - val_accuracy: 0.4993\n",
            "Epoch 2/100\n",
            "1063/1063 [==============================] - ETA: 0s - loss: 8.0927 - accuracy: 0.4999\n",
            "Epoch 2: val_accuracy did not improve from 0.49927\n",
            "1063/1063 [==============================] - 12s 12ms/step - loss: 8.0927 - accuracy: 0.4999 - val_loss: 8.0708 - val_accuracy: 0.4993\n",
            "Epoch 3/100\n",
            "1063/1063 [==============================] - ETA: 0s - loss: 8.0749 - accuracy: 0.4999\n",
            "Epoch 3: val_accuracy did not improve from 0.49927\n",
            "1063/1063 [==============================] - 10s 10ms/step - loss: 8.0749 - accuracy: 0.4999 - val_loss: 8.0708 - val_accuracy: 0.4993\n",
            "Epoch 4/100\n",
            "1063/1063 [==============================] - ETA: 0s - loss: 8.0512 - accuracy: 0.4999\n",
            "Epoch 4: val_accuracy did not improve from 0.49927\n",
            "1063/1063 [==============================] - 10s 9ms/step - loss: 8.0512 - accuracy: 0.4999 - val_loss: 8.0708 - val_accuracy: 0.4993\n",
            "Epoch 5/100\n",
            "1063/1063 [==============================] - ETA: 0s - loss: 7.0051 - accuracy: 0.4999\n",
            "Epoch 5: val_accuracy did not improve from 0.49927\n",
            "1063/1063 [==============================] - 10s 10ms/step - loss: 7.0051 - accuracy: 0.4999 - val_loss: 0.6931 - val_accuracy: 0.4993\n",
            "Epoch 6/100\n",
            "1063/1063 [==============================] - ETA: 0s - loss: 0.6931 - accuracy: 0.4999\n",
            "Epoch 6: val_accuracy did not improve from 0.49927\n",
            "1063/1063 [==============================] - 9s 8ms/step - loss: 0.6931 - accuracy: 0.4999 - val_loss: 0.6931 - val_accuracy: 0.4993\n",
            "Epoch 7/100\n",
            "1063/1063 [==============================] - ETA: 0s - loss: 0.6931 - accuracy: 0.4999\n",
            "Epoch 7: val_accuracy did not improve from 0.49927\n",
            "1063/1063 [==============================] - 8s 7ms/step - loss: 0.6931 - accuracy: 0.4999 - val_loss: 0.6931 - val_accuracy: 0.4993\n",
            "Epoch 8/100\n",
            "1063/1063 [==============================] - ETA: 0s - loss: 0.6931 - accuracy: 0.4999\n",
            "Epoch 8: val_accuracy did not improve from 0.49927\n",
            "1063/1063 [==============================] - 7s 7ms/step - loss: 0.6931 - accuracy: 0.4999 - val_loss: 0.6931 - val_accuracy: 0.4993\n",
            "Epoch 9/100\n",
            "1063/1063 [==============================] - ETA: 0s - loss: 0.6931 - accuracy: 0.4999\n",
            "Epoch 9: val_accuracy did not improve from 0.49927\n",
            "1063/1063 [==============================] - 8s 7ms/step - loss: 0.6931 - accuracy: 0.4999 - val_loss: 0.6931 - val_accuracy: 0.4993\n",
            "Epoch 10/100\n",
            "1063/1063 [==============================] - ETA: 0s - loss: 0.6928 - accuracy: 0.4987\n",
            "Epoch 10: val_accuracy improved from 0.49927 to 0.50073, saving model to naver_we.h5\n",
            "1063/1063 [==============================] - 8s 7ms/step - loss: 0.6928 - accuracy: 0.4987 - val_loss: 0.6930 - val_accuracy: 0.5007\n",
            "Epoch 11/100\n",
            "1063/1063 [==============================] - ETA: 0s - loss: 0.7116 - accuracy: 0.3834\n",
            "Epoch 11: val_accuracy did not improve from 0.50073\n",
            "1063/1063 [==============================] - 8s 7ms/step - loss: 0.7116 - accuracy: 0.3834 - val_loss: 0.6859 - val_accuracy: 0.2434\n",
            "Epoch 12/100\n",
            "1063/1063 [==============================] - ETA: 0s - loss: 0.6738 - accuracy: 0.2173\n",
            "Epoch 12: val_accuracy did not improve from 0.50073\n",
            "1063/1063 [==============================] - 8s 8ms/step - loss: 0.6738 - accuracy: 0.2173 - val_loss: 0.6898 - val_accuracy: 0.2315\n",
            "Epoch 13/100\n",
            "1063/1063 [==============================] - ETA: 0s - loss: 0.6831 - accuracy: 0.3396\n",
            "Epoch 13: val_accuracy did not improve from 0.50073\n",
            "1063/1063 [==============================] - 7s 7ms/step - loss: 0.6831 - accuracy: 0.3396 - val_loss: 0.6919 - val_accuracy: 0.4262\n",
            "Epoch 14/100\n",
            "1063/1063 [==============================] - ETA: 0s - loss: 0.6913 - accuracy: 0.4206\n",
            "Epoch 14: val_accuracy did not improve from 0.50073\n",
            "1063/1063 [==============================] - 7s 7ms/step - loss: 0.6913 - accuracy: 0.4206 - val_loss: 0.6902 - val_accuracy: 0.4124\n",
            "Epoch 15/100\n",
            "1063/1063 [==============================] - ETA: 0s - loss: 0.6802 - accuracy: 0.3719\n",
            "Epoch 15: val_accuracy did not improve from 0.50073\n",
            "1063/1063 [==============================] - 8s 8ms/step - loss: 0.6802 - accuracy: 0.3719 - val_loss: 0.6700 - val_accuracy: 0.3327\n",
            "Epoch 16/100\n",
            "1063/1063 [==============================] - ETA: 0s - loss: 0.6176 - accuracy: 0.3074\n",
            "Epoch 16: val_accuracy did not improve from 0.50073\n",
            "1063/1063 [==============================] - 8s 7ms/step - loss: 0.6176 - accuracy: 0.3074 - val_loss: 0.6817 - val_accuracy: 0.2138\n",
            "Epoch 17/100\n",
            "1063/1063 [==============================] - ETA: 0s - loss: 0.5769 - accuracy: 0.2303\n",
            "Epoch 17: val_accuracy did not improve from 0.50073\n",
            "1063/1063 [==============================] - 8s 7ms/step - loss: 0.5769 - accuracy: 0.2303 - val_loss: 0.5304 - val_accuracy: 0.1983\n",
            "Epoch 18/100\n",
            "1062/1063 [============================>.] - ETA: 0s - loss: 0.8528 - accuracy: 0.1205\n",
            "Epoch 18: val_accuracy did not improve from 0.50073\n",
            "1063/1063 [==============================] - 8s 7ms/step - loss: 0.8528 - accuracy: 0.1205 - val_loss: 0.5893 - val_accuracy: 0.1268\n",
            "Epoch 19/100\n",
            "1062/1063 [============================>.] - ETA: 0s - loss: 0.7343 - accuracy: 0.0914\n",
            "Epoch 19: val_accuracy did not improve from 0.50073\n",
            "1063/1063 [==============================] - 8s 7ms/step - loss: 0.7342 - accuracy: 0.0914 - val_loss: 0.4703 - val_accuracy: 0.1069\n",
            "Epoch 20/100\n",
            "1063/1063 [==============================] - ETA: 0s - loss: 0.6776 - accuracy: 0.1294\n",
            "Epoch 20: val_accuracy did not improve from 0.50073\n",
            "1063/1063 [==============================] - 7s 7ms/step - loss: 0.6776 - accuracy: 0.1294 - val_loss: 0.6593 - val_accuracy: 0.1475\n",
            "Epoch 21/100\n",
            "1063/1063 [==============================] - ETA: 0s - loss: 1.4937 - accuracy: 0.1368\n",
            "Epoch 21: val_accuracy did not improve from 0.50073\n",
            "1063/1063 [==============================] - 7s 7ms/step - loss: 1.4937 - accuracy: 0.1368 - val_loss: 0.6970 - val_accuracy: 0.1739\n",
            "Epoch 22/100\n",
            "1063/1063 [==============================] - ETA: 0s - loss: 0.6290 - accuracy: 0.1009\n",
            "Epoch 22: val_accuracy did not improve from 0.50073\n",
            "1063/1063 [==============================] - 8s 7ms/step - loss: 0.6290 - accuracy: 0.1009 - val_loss: 1.3967 - val_accuracy: 0.1079\n",
            "Epoch 23/100\n",
            "1063/1063 [==============================] - ETA: 0s - loss: 1.5678 - accuracy: 0.1073\n",
            "Epoch 23: val_accuracy did not improve from 0.50073\n",
            "1063/1063 [==============================] - 8s 7ms/step - loss: 1.5678 - accuracy: 0.1073 - val_loss: 0.5943 - val_accuracy: 0.3063\n",
            "Epoch 24/100\n",
            "1063/1063 [==============================] - ETA: 0s - loss: 1.4700 - accuracy: 0.1582\n",
            "Epoch 24: val_accuracy did not improve from 0.50073\n",
            "1063/1063 [==============================] - 7s 7ms/step - loss: 1.4700 - accuracy: 0.1582 - val_loss: 0.9852 - val_accuracy: 0.2045\n",
            "Epoch 24: early stopping\n"
          ]
        }
      ]
    },
    {
      "cell_type": "markdown",
      "source": [
        "# Steam"
      ],
      "metadata": {
        "id": "md7ohXhgpMA5"
      }
    },
    {
      "cell_type": "code",
      "source": [
        "sentences = [row.split() for row in steam['tokenized']]\n",
        "W2V_s = Word2Vec(sentences=sentences, vector_size=300, window=5, min_count=2, workers=4, sg=1)"
      ],
      "metadata": {
        "id": "XT1SVKPCpOA3"
      },
      "execution_count": 8,
      "outputs": []
    },
    {
      "cell_type": "code",
      "source": [
        "# dictionary 생성 후 sequence로 변환\n",
        "word_to_index = {word: index for index, word in enumerate(W2V_s.wv.index_to_key)}\n",
        "\n",
        "# 워드 임배딩 결과를 각 정수로 반환\n",
        "steam['sequence'] = steam['tokenized'].apply(to_sequence)\n",
        "max_length_n = max(steam['sequence'].apply(len))\n",
        "# 길이 맞추기 및 one-hot encoding\n",
        "X = pad_sequences(steam['sequence'].values, maxlen=max_length_n, padding='post')\n",
        "y = to_categorical(steam['label'].values, num_classes=2)\n",
        "\n",
        "# 분리\n",
        "train_X_s, test_X_s, train_y_s, test_y_s = train_test_split(X, y, test_size=0.2, random_state=42)\n",
        "embedding_dim = 300 # 위에서 임배딩의 300으로 바궜으므로.\n",
        "vocab_size = len(word_to_index)\n",
        "\n",
        "model_s = Sequential([\n",
        "  layers.Embedding(input_dim=vocab_size, output_dim=embedding_dim, input_length=max_length_n),\n",
        "  layers.GRU(units=128, dropout=0.2),\n",
        "  layers.Dense(2, activation='elu')\n",
        "])\n",
        "\n",
        "early_stop2 = EarlyStopping(monitor = 'val_loss', mode = 'min', patience = 5, verbose = 1)\n",
        "checkpoint_s = ModelCheckpoint('steam_we.h5', monitor = 'val_accuracy', mode = 'max', verbose =1, save_best_only = True)\n",
        "optimizer_adamw = AdamW(weight_decay=1e-4)\n",
        "\n",
        "model_s.compile(optimizer= optimizer_adamw, loss='categorical_crossentropy', metrics=['accuracy'])\n",
        "history_naver = model_s.fit(train_X_s, train_y_s, epochs = 100, callbacks = [early_stop2, checkpoint_s], batch_size = 128, validation_split = 0.15)"
      ],
      "metadata": {
        "colab": {
          "base_uri": "https://localhost:8080/"
        },
        "id": "td9wrj1-pN59",
        "outputId": "aefb6cc5-fcd8-47c7-98fd-c58c35a76df3"
      },
      "execution_count": 26,
      "outputs": [
        {
          "output_type": "stream",
          "name": "stdout",
          "text": [
            "Epoch 1/100\n",
            "532/532 [==============================] - ETA: 0s - loss: 1.3310 - accuracy: 0.4981\n",
            "Epoch 1: val_accuracy improved from -inf to 0.50325, saving model to steam_we.h5\n",
            "532/532 [==============================] - 37s 65ms/step - loss: 1.3310 - accuracy: 0.4981 - val_loss: 0.6933 - val_accuracy: 0.5033\n",
            "Epoch 2/100\n",
            "532/532 [==============================] - ETA: 0s - loss: 0.6932 - accuracy: 0.4981\n",
            "Epoch 2: val_accuracy did not improve from 0.50325\n",
            "532/532 [==============================] - 9s 16ms/step - loss: 0.6932 - accuracy: 0.4981 - val_loss: 0.6932 - val_accuracy: 0.5033\n",
            "Epoch 3/100\n",
            "532/532 [==============================] - ETA: 0s - loss: 0.6932 - accuracy: 0.4994\n",
            "Epoch 3: val_accuracy did not improve from 0.50325\n",
            "532/532 [==============================] - 7s 12ms/step - loss: 0.6932 - accuracy: 0.4994 - val_loss: 0.6931 - val_accuracy: 0.4964\n",
            "Epoch 4/100\n",
            "532/532 [==============================] - ETA: 0s - loss: 0.6932 - accuracy: 0.4979\n",
            "Epoch 4: val_accuracy did not improve from 0.50325\n",
            "532/532 [==============================] - 6s 10ms/step - loss: 0.6932 - accuracy: 0.4979 - val_loss: 0.6932 - val_accuracy: 0.4967\n",
            "Epoch 5/100\n",
            "532/532 [==============================] - ETA: 0s - loss: 0.6932 - accuracy: 0.5013\n",
            "Epoch 5: val_accuracy did not improve from 0.50325\n",
            "532/532 [==============================] - 5s 9ms/step - loss: 0.6932 - accuracy: 0.5013 - val_loss: 0.6931 - val_accuracy: 0.4967\n",
            "Epoch 6/100\n",
            "532/532 [==============================] - ETA: 0s - loss: 0.5921 - accuracy: 0.3301\n",
            "Epoch 6: val_accuracy did not improve from 0.50325\n",
            "532/532 [==============================] - 5s 9ms/step - loss: 0.5921 - accuracy: 0.3301 - val_loss: 0.4802 - val_accuracy: 0.2237\n",
            "Epoch 7/100\n",
            "532/532 [==============================] - ETA: 0s - loss: 0.5749 - accuracy: 0.4492\n",
            "Epoch 7: val_accuracy did not improve from 0.50325\n",
            "532/532 [==============================] - 5s 9ms/step - loss: 0.5749 - accuracy: 0.4492 - val_loss: 0.5843 - val_accuracy: 0.5033\n",
            "Epoch 8/100\n",
            "532/532 [==============================] - ETA: 0s - loss: 0.6284 - accuracy: 0.4649\n",
            "Epoch 8: val_accuracy did not improve from 0.50325\n",
            "532/532 [==============================] - 5s 8ms/step - loss: 0.6284 - accuracy: 0.4649 - val_loss: 0.6929 - val_accuracy: 0.4966\n",
            "Epoch 9/100\n",
            "532/532 [==============================] - ETA: 0s - loss: 0.6909 - accuracy: 0.3796\n",
            "Epoch 9: val_accuracy did not improve from 0.50325\n",
            "532/532 [==============================] - 5s 8ms/step - loss: 0.6909 - accuracy: 0.3796 - val_loss: 0.6820 - val_accuracy: 0.2574\n",
            "Epoch 10/100\n",
            "532/532 [==============================] - ETA: 0s - loss: 0.6634 - accuracy: 0.3203\n",
            "Epoch 10: val_accuracy did not improve from 0.50325\n",
            "532/532 [==============================] - 5s 10ms/step - loss: 0.6634 - accuracy: 0.3203 - val_loss: 0.6909 - val_accuracy: 0.5033\n",
            "Epoch 11/100\n",
            "532/532 [==============================] - ETA: 0s - loss: 0.7175 - accuracy: 0.4396\n",
            "Epoch 11: val_accuracy did not improve from 0.50325\n",
            "532/532 [==============================] - 4s 8ms/step - loss: 0.7175 - accuracy: 0.4396 - val_loss: 0.6278 - val_accuracy: 0.4772\n",
            "Epoch 11: early stopping\n"
          ]
        }
      ]
    },
    {
      "cell_type": "markdown",
      "source": [
        "# 전체"
      ],
      "metadata": {
        "id": "XP3CVFJjpNQQ"
      }
    },
    {
      "cell_type": "code",
      "source": [
        "sentences = [row.split() for row in total['tokenized']]\n",
        "W2V_t = Word2Vec(sentences=sentences, vector_size=300, window=5, min_count=2, workers=4, sg=1)"
      ],
      "metadata": {
        "id": "VudDTKj8of84"
      },
      "execution_count": 10,
      "outputs": []
    },
    {
      "cell_type": "code",
      "source": [
        "# dictionary 생성 후 sequence로 변환\n",
        "word_to_index = {word: index for index, word in enumerate(W2V_t.wv.index_to_key)}\n",
        "\n",
        "# 워드 임배딩 결과를 각 정수로 반환\n",
        "total['sequence'] = total['tokenized'].apply(to_sequence)\n",
        "max_length_t = max(total['sequence'].apply(len))\n",
        "# 길이 맞추기 및 one-hot encoding\n",
        "X = pad_sequences(total['sequence'].values, maxlen=max_length_t, padding='post')\n",
        "y = to_categorical(total['label'].values, num_classes=2)\n",
        "\n",
        "# 분리\n",
        "train_X_t, test_X_t, train_y_t, test_y_t = train_test_split(X, y, test_size=0.2, random_state=42)\n",
        "embedding_dim = 300 # 위에서 임배딩의 300으로 바궜으므로.\n",
        "vocab_size = len(word_to_index)\n",
        "\n",
        "# 모델 설계\n",
        "model_t = Sequential([\n",
        "  layers.Embedding(input_dim=vocab_size, output_dim=embedding_dim, input_length=max_length_t),\n",
        "  layers.GRU(units=128, dropout=0.2),\n",
        "  layers.Dense(2, activation='elu')\n",
        "])\n",
        "\n",
        "early_stop3 = EarlyStopping(monitor = 'val_loss', mode = 'min', patience = 5, verbose = 1)\n",
        "checkpoint_t = ModelCheckpoint('total_we.h5', monitor = 'val_accuracy', mode = 'max', verbose =1, save_best_only = True)\n",
        "optimizer_adamw = AdamW(weight_decay=1e-4)\n",
        "\n",
        "model_t.compile(optimizer= optimizer_adamw, loss='categorical_crossentropy', metrics=['accuracy'])\n",
        "history_naver = model_t.fit(train_X_t, train_y_t, epochs = 100, callbacks = [early_stop3, checkpoint_t], batch_size = 128, validation_split = 0.15)"
      ],
      "metadata": {
        "colab": {
          "base_uri": "https://localhost:8080/"
        },
        "id": "PoWMj510qRE1",
        "outputId": "47c99253-f030-463e-fa8b-2933f6f08d33"
      },
      "execution_count": 22,
      "outputs": [
        {
          "output_type": "stream",
          "name": "stdout",
          "text": [
            "Epoch 1/100\n",
            "1594/1594 [==============================] - ETA: 0s - loss: 0.6939 - accuracy: 0.4990\n",
            "Epoch 1: val_accuracy improved from -inf to 0.49839, saving model to total_we.h5\n",
            "1594/1594 [==============================] - 53s 32ms/step - loss: 0.6939 - accuracy: 0.4990 - val_loss: 0.6931 - val_accuracy: 0.4984\n",
            "Epoch 2/100\n",
            "1594/1594 [==============================] - ETA: 0s - loss: 0.5322 - accuracy: 0.2469\n",
            "Epoch 2: val_accuracy did not improve from 0.49839\n",
            "1594/1594 [==============================] - 14s 9ms/step - loss: 0.5322 - accuracy: 0.2469 - val_loss: 0.5008 - val_accuracy: 0.2051\n",
            "Epoch 3/100\n",
            "1594/1594 [==============================] - ETA: 0s - loss: 0.4130 - accuracy: 0.1402\n",
            "Epoch 3: val_accuracy did not improve from 0.49839\n",
            "1594/1594 [==============================] - 14s 9ms/step - loss: 0.4130 - accuracy: 0.1402 - val_loss: 0.3955 - val_accuracy: 0.1383\n",
            "Epoch 4/100\n",
            "1594/1594 [==============================] - ETA: 0s - loss: 0.3730 - accuracy: 0.1078\n",
            "Epoch 4: val_accuracy did not improve from 0.49839\n",
            "1594/1594 [==============================] - 12s 7ms/step - loss: 0.3730 - accuracy: 0.1078 - val_loss: 0.4328 - val_accuracy: 0.1372\n",
            "Epoch 5/100\n",
            "1594/1594 [==============================] - ETA: 0s - loss: 0.5291 - accuracy: 0.1673\n",
            "Epoch 5: val_accuracy did not improve from 0.49839\n",
            "1594/1594 [==============================] - 13s 8ms/step - loss: 0.5291 - accuracy: 0.1673 - val_loss: 0.4240 - val_accuracy: 0.1384\n",
            "Epoch 6/100\n",
            "1594/1594 [==============================] - ETA: 0s - loss: 0.5628 - accuracy: 0.3110\n",
            "Epoch 6: val_accuracy did not improve from 0.49839\n",
            "1594/1594 [==============================] - 12s 8ms/step - loss: 0.5628 - accuracy: 0.3110 - val_loss: 0.5647 - val_accuracy: 0.1847\n",
            "Epoch 7/100\n",
            "1594/1594 [==============================] - ETA: 0s - loss: 0.4219 - accuracy: 0.1117\n",
            "Epoch 7: val_accuracy did not improve from 0.49839\n",
            "1594/1594 [==============================] - 12s 7ms/step - loss: 0.4219 - accuracy: 0.1117 - val_loss: 0.4669 - val_accuracy: 0.1425\n",
            "Epoch 8/100\n",
            "1594/1594 [==============================] - ETA: 0s - loss: 0.4475 - accuracy: 0.1642\n",
            "Epoch 8: val_accuracy did not improve from 0.49839\n",
            "1594/1594 [==============================] - 13s 8ms/step - loss: 0.4475 - accuracy: 0.1642 - val_loss: 0.4234 - val_accuracy: 0.1411\n",
            "Epoch 8: early stopping\n"
          ]
        }
      ]
    },
    {
      "cell_type": "code",
      "source": [
        "loss_n, accuracy_n = model_n.evaluate(test_X_n, test_y_n)\n",
        "loss_s, accuracy_s = model_s.evaluate(test_X_s, test_y_s)\n",
        "loss_t, accuracy_t = model_t.evaluate(test_X_t, test_y_t)\n",
        "print(f\"Naver loss: {loss_n:.4f}, Test accuracy: {accuracy_n*100:.2f}%\")\n",
        "print(f\"Steam loss: {loss_s:.4f}, Test accuracy: {accuracy_s*100:.2f}%\")\n",
        "print(f\"Total loss: {loss_t:.4f}, Test accuracy: {accuracy_t*100:.2f}%\")"
      ],
      "metadata": {
        "id": "WD5zMkBaqqOl",
        "colab": {
          "base_uri": "https://localhost:8080/"
        },
        "outputId": "44777149-5732-4df8-9d64-182dcc83cd0d"
      },
      "execution_count": 27,
      "outputs": [
        {
          "output_type": "stream",
          "name": "stdout",
          "text": [
            "1250/1250 [==============================] - 4s 3ms/step - loss: 1.6839 - accuracy: 0.4892\n",
            "625/625 [==============================] - 2s 3ms/step - loss: 0.6341 - accuracy: 0.4818\n",
            "1875/1875 [==============================] - 6s 3ms/step - loss: 0.6932 - accuracy: 0.4995\n",
            "Naver loss: 1.6839, Test accuracy: 48.92%\n",
            "Steam loss: 0.6341, Test accuracy: 48.18%\n",
            "Total loss: 0.6932, Test accuracy: 49.95%\n"
          ]
        }
      ]
    },
    {
      "cell_type": "markdown",
      "source": [
        "* 층을 더 쌓아서 진행."
      ],
      "metadata": {
        "id": "FDFiIw6z695Y"
      }
    },
    {
      "cell_type": "code",
      "source": [
        "from tensorflow.keras.layers import Dropout\n",
        "# dictionary 생성 후 sequence로 변환\n",
        "word_to_index = {word: index for index, word in enumerate(W2V_n.wv.index_to_key)}\n",
        "\n",
        "# 워드 임배딩 결과를 각 정수로 반환\n",
        "steam['sequence'] = steam['tokenized'].apply(to_sequence)\n",
        "max_length_n = max(steam['sequence'].apply(len))\n",
        "# 길이 맞추기 및 one-hot encoding\n",
        "X = pad_sequences(steam['sequence'].values, maxlen=max_length_n, padding='post')\n",
        "y = to_categorical(steam['label'].values, num_classes=2)\n",
        "\n",
        "# 분리\n",
        "train_X_n, test_X_n, train_y_n, test_y_n = train_test_split(X, y, test_size=0.2, random_state=42)\n",
        "model_n_v2 = Sequential([\n",
        "  layers.Embedding(input_dim=vocab_size, output_dim=embedding_dim, input_length=max_length_n),\n",
        "  layers.GRU(units=128, dropout=0.2),\n",
        "  layers.Dense(64, activation='elu'),\n",
        "  Dropout(0.4),\n",
        "  layers.Dense(2, activation = 'elu')\n",
        "])\n",
        "\n",
        "early_stop1 = EarlyStopping(monitor = 'val_loss', mode = 'min', patience = 5, verbose = 1)\n",
        "checkpoint_n = ModelCheckpoint('naver_we_v2.h5', monitor = 'val_accuracy', mode = 'max', verbose =1, save_best_only = True)\n",
        "optimizer_adamw = AdamW(weight_decay=1e-4)\n",
        "\n",
        "model_n_v2.compile(optimizer= optimizer_adamw, loss='categorical_crossentropy', metrics=['accuracy'])\n",
        "history_naver = model_n_v2.fit(train_X_n, train_y_n, epochs = 100, callbacks = [early_stop1, checkpoint_n], batch_size = 128, validation_split = 0.15)"
      ],
      "metadata": {
        "id": "erqsyck64QED",
        "colab": {
          "base_uri": "https://localhost:8080/"
        },
        "outputId": "295b8573-dcf0-4c36-f8de-d55a233cbc01"
      },
      "execution_count": 36,
      "outputs": [
        {
          "output_type": "stream",
          "name": "stdout",
          "text": [
            "Epoch 1/100\n",
            "532/532 [==============================] - ETA: 0s - loss: 0.7010 - accuracy: 0.4989\n",
            "Epoch 1: val_accuracy improved from -inf to 0.49675, saving model to naver_we_v2.h5\n",
            "532/532 [==============================] - 36s 63ms/step - loss: 0.7010 - accuracy: 0.4989 - val_loss: 0.6948 - val_accuracy: 0.4967\n",
            "Epoch 2/100\n",
            "532/532 [==============================] - ETA: 0s - loss: 0.6945 - accuracy: 0.4991\n",
            "Epoch 2: val_accuracy did not improve from 0.49675\n",
            "532/532 [==============================] - 8s 16ms/step - loss: 0.6945 - accuracy: 0.4991 - val_loss: 0.6931 - val_accuracy: 0.4966\n",
            "Epoch 3/100\n",
            "532/532 [==============================] - ETA: 0s - loss: 0.6939 - accuracy: 0.4995\n",
            "Epoch 3: val_accuracy did not improve from 0.49675\n",
            "532/532 [==============================] - 6s 11ms/step - loss: 0.6939 - accuracy: 0.4995 - val_loss: 0.6941 - val_accuracy: 0.4967\n",
            "Epoch 4/100\n",
            "532/532 [==============================] - ETA: 0s - loss: 0.6936 - accuracy: 0.5024\n",
            "Epoch 4: val_accuracy improved from 0.49675 to 0.50325, saving model to naver_we_v2.h5\n",
            "532/532 [==============================] - 6s 11ms/step - loss: 0.6936 - accuracy: 0.5024 - val_loss: 0.6933 - val_accuracy: 0.5033\n",
            "Epoch 5/100\n",
            "532/532 [==============================] - ETA: 0s - loss: 0.6934 - accuracy: 0.5040\n",
            "Epoch 5: val_accuracy did not improve from 0.50325\n",
            "532/532 [==============================] - 5s 10ms/step - loss: 0.6934 - accuracy: 0.5040 - val_loss: 0.6932 - val_accuracy: 0.4967\n",
            "Epoch 6/100\n",
            "532/532 [==============================] - ETA: 0s - loss: 0.6936 - accuracy: 0.4986\n",
            "Epoch 6: val_accuracy did not improve from 0.50325\n",
            "532/532 [==============================] - 6s 11ms/step - loss: 0.6936 - accuracy: 0.4986 - val_loss: 0.6931 - val_accuracy: 0.5033\n",
            "Epoch 7/100\n",
            "532/532 [==============================] - ETA: 0s - loss: 0.6935 - accuracy: 0.4995\n",
            "Epoch 7: val_accuracy did not improve from 0.50325\n",
            "532/532 [==============================] - 4s 8ms/step - loss: 0.6935 - accuracy: 0.4995 - val_loss: 0.6931 - val_accuracy: 0.5033\n",
            "Epoch 8/100\n",
            "532/532 [==============================] - ETA: 0s - loss: 0.6934 - accuracy: 0.5014\n",
            "Epoch 8: val_accuracy did not improve from 0.50325\n",
            "532/532 [==============================] - 5s 9ms/step - loss: 0.6934 - accuracy: 0.5014 - val_loss: 0.6941 - val_accuracy: 0.4967\n",
            "Epoch 9/100\n",
            "532/532 [==============================] - ETA: 0s - loss: 0.6935 - accuracy: 0.4991\n",
            "Epoch 9: val_accuracy did not improve from 0.50325\n",
            "532/532 [==============================] - 4s 8ms/step - loss: 0.6935 - accuracy: 0.4991 - val_loss: 0.6937 - val_accuracy: 0.4967\n",
            "Epoch 10/100\n",
            "530/532 [============================>.] - ETA: 0s - loss: 0.6935 - accuracy: 0.4959\n",
            "Epoch 10: val_accuracy did not improve from 0.50325\n",
            "532/532 [==============================] - 4s 7ms/step - loss: 0.6935 - accuracy: 0.4959 - val_loss: 0.6932 - val_accuracy: 0.4967\n",
            "Epoch 11/100\n",
            "532/532 [==============================] - ETA: 0s - loss: 0.6934 - accuracy: 0.5009\n",
            "Epoch 11: val_accuracy did not improve from 0.50325\n",
            "532/532 [==============================] - 4s 8ms/step - loss: 0.6934 - accuracy: 0.5009 - val_loss: 0.6935 - val_accuracy: 0.4967\n",
            "Epoch 12/100\n",
            "532/532 [==============================] - ETA: 0s - loss: 0.6977 - accuracy: 0.5037\n",
            "Epoch 12: val_accuracy did not improve from 0.50325\n",
            "532/532 [==============================] - 4s 7ms/step - loss: 0.6977 - accuracy: 0.5037 - val_loss: 0.6931 - val_accuracy: 0.4967\n",
            "Epoch 12: early stopping\n"
          ]
        }
      ]
    },
    {
      "cell_type": "code",
      "source": [
        "# dictionary 생성 후 sequence로 변환\n",
        "word_to_index = {word: index for index, word in enumerate(W2V_s.wv.index_to_key)}\n",
        "\n",
        "# 워드 임배딩 결과를 각 정수로 반환\n",
        "steam['sequence'] = steam['tokenized'].apply(to_sequence)\n",
        "max_length_s = max(steam['sequence'].apply(len))\n",
        "# 길이 맞추기 및 one-hot encoding\n",
        "X = pad_sequences(steam['sequence'].values, maxlen=max_length_s, padding='post')\n",
        "y = to_categorical(steam['label'].values, num_classes=2)\n",
        "\n",
        "# 분리\n",
        "train_X_s, test_X_s, train_y_s, test_y_s = train_test_split(X, y, test_size=0.2, random_state=42)\n",
        "model_s_v2 = Sequential([\n",
        "  layers.Embedding(input_dim=vocab_size, output_dim=embedding_dim, input_length=max_length_s),\n",
        "  layers.GRU(units=128, dropout=0.2),\n",
        "  layers.Dense(64, activation='elu'),\n",
        "  Dropout(0.4),\n",
        "  layers.Dense(2, activation = 'elu')\n",
        "])\n",
        "\n",
        "early_stop2 = EarlyStopping(monitor = 'val_loss', mode = 'min', patience = 5, verbose = 1)\n",
        "checkpoint_s = ModelCheckpoint('steam_we_v2.h5', monitor = 'val_accuracy', mode = 'max', verbose =1, save_best_only = True)\n",
        "optimizer_adamw = AdamW(weight_decay=1e-4)\n",
        "\n",
        "model_s_v2.compile(optimizer= optimizer_adamw, loss='categorical_crossentropy', metrics=['accuracy'])\n",
        "history_steam = model_s_v2.fit(train_X_s, train_y_s, epochs = 100, callbacks = [early_stop2, checkpoint_s], batch_size = 128, validation_split = 0.15)"
      ],
      "metadata": {
        "id": "kV2gChfy64Tn",
        "colab": {
          "base_uri": "https://localhost:8080/"
        },
        "outputId": "7bd0aaa2-9047-41b2-962a-0faabc7d22a6"
      },
      "execution_count": 33,
      "outputs": [
        {
          "output_type": "stream",
          "name": "stdout",
          "text": [
            "Epoch 1/100\n",
            "532/532 [==============================] - ETA: 0s - loss: 0.7037 - accuracy: 0.5011\n",
            "Epoch 1: val_accuracy improved from -inf to 0.49675, saving model to steam_we_v2.h5\n",
            "532/532 [==============================] - 37s 65ms/step - loss: 0.7037 - accuracy: 0.5011 - val_loss: 0.6935 - val_accuracy: 0.4967\n",
            "Epoch 2/100\n",
            "532/532 [==============================] - ETA: 0s - loss: 0.6944 - accuracy: 0.4999\n",
            "Epoch 2: val_accuracy did not improve from 0.49675\n",
            "532/532 [==============================] - 11s 20ms/step - loss: 0.6944 - accuracy: 0.4999 - val_loss: 0.6932 - val_accuracy: 0.4967\n",
            "Epoch 3/100\n",
            "532/532 [==============================] - ETA: 0s - loss: 0.6939 - accuracy: 0.5029\n",
            "Epoch 3: val_accuracy improved from 0.49675 to 0.50325, saving model to steam_we_v2.h5\n",
            "532/532 [==============================] - 7s 12ms/step - loss: 0.6939 - accuracy: 0.5029 - val_loss: 0.6931 - val_accuracy: 0.5033\n",
            "Epoch 4/100\n",
            "532/532 [==============================] - ETA: 0s - loss: 0.6937 - accuracy: 0.4980\n",
            "Epoch 4: val_accuracy did not improve from 0.50325\n",
            "532/532 [==============================] - 5s 10ms/step - loss: 0.6937 - accuracy: 0.4980 - val_loss: 0.6937 - val_accuracy: 0.4967\n",
            "Epoch 5/100\n",
            "532/532 [==============================] - ETA: 0s - loss: 0.6936 - accuracy: 0.4992\n",
            "Epoch 5: val_accuracy did not improve from 0.50325\n",
            "532/532 [==============================] - 5s 9ms/step - loss: 0.6936 - accuracy: 0.4992 - val_loss: 0.6934 - val_accuracy: 0.4967\n",
            "Epoch 6/100\n",
            "532/532 [==============================] - ETA: 0s - loss: 0.6935 - accuracy: 0.5013\n",
            "Epoch 6: val_accuracy did not improve from 0.50325\n",
            "532/532 [==============================] - 5s 9ms/step - loss: 0.6935 - accuracy: 0.5013 - val_loss: 0.6932 - val_accuracy: 0.5033\n",
            "Epoch 7/100\n",
            "532/532 [==============================] - ETA: 0s - loss: 0.6557 - accuracy: 0.6172\n",
            "Epoch 7: val_accuracy improved from 0.50325 to 0.73775, saving model to steam_we_v2.h5\n",
            "532/532 [==============================] - 4s 8ms/step - loss: 0.6557 - accuracy: 0.6172 - val_loss: 0.5695 - val_accuracy: 0.7377\n",
            "Epoch 8/100\n",
            "532/532 [==============================] - ETA: 0s - loss: 0.6031 - accuracy: 0.7183\n",
            "Epoch 8: val_accuracy did not improve from 0.73775\n",
            "532/532 [==============================] - 5s 10ms/step - loss: 0.6031 - accuracy: 0.7183 - val_loss: 0.5770 - val_accuracy: 0.7126\n",
            "Epoch 9/100\n",
            "532/532 [==============================] - ETA: 0s - loss: 0.5285 - accuracy: 0.7713\n",
            "Epoch 9: val_accuracy did not improve from 0.73775\n",
            "532/532 [==============================] - 5s 9ms/step - loss: 0.5285 - accuracy: 0.7713 - val_loss: 0.5641 - val_accuracy: 0.7230\n",
            "Epoch 10/100\n",
            "527/532 [============================>.] - ETA: 0s - loss: 0.4624 - accuracy: 0.8273\n",
            "Epoch 10: val_accuracy improved from 0.73775 to 0.74792, saving model to steam_we_v2.h5\n",
            "532/532 [==============================] - 5s 9ms/step - loss: 0.4625 - accuracy: 0.8273 - val_loss: 0.5614 - val_accuracy: 0.7479\n",
            "Epoch 11/100\n",
            "532/532 [==============================] - ETA: 0s - loss: 0.4526 - accuracy: 0.8137\n",
            "Epoch 11: val_accuracy did not improve from 0.74792\n",
            "532/532 [==============================] - 4s 8ms/step - loss: 0.4526 - accuracy: 0.8137 - val_loss: 0.5910 - val_accuracy: 0.7379\n",
            "Epoch 12/100\n",
            "530/532 [============================>.] - ETA: 0s - loss: 0.4149 - accuracy: 0.8398\n",
            "Epoch 12: val_accuracy did not improve from 0.74792\n",
            "532/532 [==============================] - 4s 7ms/step - loss: 0.4150 - accuracy: 0.8398 - val_loss: 0.6149 - val_accuracy: 0.7399\n",
            "Epoch 13/100\n",
            "532/532 [==============================] - ETA: 0s - loss: 0.4114 - accuracy: 0.8494\n",
            "Epoch 13: val_accuracy improved from 0.74792 to 0.75658, saving model to steam_we_v2.h5\n",
            "532/532 [==============================] - 4s 8ms/step - loss: 0.4114 - accuracy: 0.8494 - val_loss: 0.5430 - val_accuracy: 0.7566\n",
            "Epoch 14/100\n",
            "526/532 [============================>.] - ETA: 0s - loss: 0.3680 - accuracy: 0.8867\n",
            "Epoch 14: val_accuracy did not improve from 0.75658\n",
            "532/532 [==============================] - 4s 7ms/step - loss: 0.3678 - accuracy: 0.8867 - val_loss: 0.5189 - val_accuracy: 0.7508\n",
            "Epoch 15/100\n",
            "532/532 [==============================] - ETA: 0s - loss: 0.3341 - accuracy: 0.8951\n",
            "Epoch 15: val_accuracy did not improve from 0.75658\n",
            "532/532 [==============================] - 5s 9ms/step - loss: 0.3341 - accuracy: 0.8951 - val_loss: 0.7766 - val_accuracy: 0.7534\n",
            "Epoch 16/100\n",
            "532/532 [==============================] - ETA: 0s - loss: 0.3156 - accuracy: 0.9086\n",
            "Epoch 16: val_accuracy did not improve from 0.75658\n",
            "532/532 [==============================] - 4s 8ms/step - loss: 0.3156 - accuracy: 0.9086 - val_loss: 0.8189 - val_accuracy: 0.7514\n",
            "Epoch 17/100\n",
            "532/532 [==============================] - ETA: 0s - loss: 0.3018 - accuracy: 0.9081\n",
            "Epoch 17: val_accuracy did not improve from 0.75658\n",
            "532/532 [==============================] - 4s 8ms/step - loss: 0.3018 - accuracy: 0.9081 - val_loss: 0.6621 - val_accuracy: 0.7506\n",
            "Epoch 18/100\n",
            "532/532 [==============================] - ETA: 0s - loss: 0.2691 - accuracy: 0.9183\n",
            "Epoch 18: val_accuracy did not improve from 0.75658\n",
            "532/532 [==============================] - 4s 7ms/step - loss: 0.2691 - accuracy: 0.9183 - val_loss: 1.0073 - val_accuracy: 0.7522\n",
            "Epoch 19/100\n",
            "532/532 [==============================] - ETA: 0s - loss: 0.2518 - accuracy: 0.9290\n",
            "Epoch 19: val_accuracy did not improve from 0.75658\n",
            "532/532 [==============================] - 4s 8ms/step - loss: 0.2518 - accuracy: 0.9290 - val_loss: 1.2775 - val_accuracy: 0.7495\n",
            "Epoch 19: early stopping\n"
          ]
        }
      ]
    },
    {
      "cell_type": "code",
      "source": [
        "# dictionary 생성 후 sequence로 변환\n",
        "word_to_index = {word: index for index, word in enumerate(W2V_t.wv.index_to_key)}\n",
        "\n",
        "# 워드 임배딩 결과를 각 정수로 반환\n",
        "total['sequence'] = total['tokenized'].apply(to_sequence)\n",
        "max_length_t = max(total['sequence'].apply(len))\n",
        "# 길이 맞추기 및 one-hot encoding\n",
        "X = pad_sequences(total['sequence'].values, maxlen=max_length_t, padding='post')\n",
        "y = to_categorical(total['label'].values, num_classes=2)\n",
        "\n",
        "# 분리\n",
        "train_X_t, test_X_t, train_y_t, test_y_t = train_test_split(X, y, test_size=0.2, random_state=42)\n",
        "model_t_v2 = Sequential([\n",
        "  layers.Embedding(input_dim=vocab_size, output_dim=embedding_dim, input_length=max_length_t),\n",
        "  layers.GRU(units=128, dropout=0.2),\n",
        "  layers.Dense(64, activation='elu'),\n",
        "  Dropout(0.4),\n",
        "  layers.Dense(2, activation = 'elu')\n",
        "])\n",
        "\n",
        "early_stop3 = EarlyStopping(monitor = 'val_loss', mode = 'min', patience = 5, verbose = 1)\n",
        "checkpoint_t = ModelCheckpoint('total_we_v2.h5', monitor = 'val_accuracy', mode = 'max', verbose =1, save_best_only = True)\n",
        "optimizer_adamw = AdamW(weight_decay=1e-4)\n",
        "\n",
        "model_t_v2.compile(optimizer= optimizer_adamw, loss='categorical_crossentropy', metrics=['accuracy'])\n",
        "history_steam = model_t_v2.fit(train_X_t, train_y_t, epochs = 100, callbacks = [early_stop3, checkpoint_t], batch_size = 128, validation_split = 0.15)"
      ],
      "metadata": {
        "colab": {
          "base_uri": "https://localhost:8080/"
        },
        "id": "83A0HWbhRcmC",
        "outputId": "bf07a607-9262-47f5-b374-6ac738c60a0e"
      },
      "execution_count": 30,
      "outputs": [
        {
          "output_type": "stream",
          "name": "stdout",
          "text": [
            "Epoch 1/100\n",
            "1594/1594 [==============================] - ETA: 0s - loss: 0.6964 - accuracy: 0.5000\n",
            "Epoch 1: val_accuracy improved from -inf to 0.50161, saving model to total_we_v2.h5\n",
            "1594/1594 [==============================] - 55s 33ms/step - loss: 0.6964 - accuracy: 0.5000 - val_loss: 0.6931 - val_accuracy: 0.5016\n",
            "Epoch 2/100\n",
            "1594/1594 [==============================] - ETA: 0s - loss: 0.6932 - accuracy: 0.5000\n",
            "Epoch 2: val_accuracy did not improve from 0.50161\n",
            "1594/1594 [==============================] - 16s 10ms/step - loss: 0.6932 - accuracy: 0.5000 - val_loss: 0.6931 - val_accuracy: 0.5016\n",
            "Epoch 3/100\n",
            "1594/1594 [==============================] - ETA: 0s - loss: 0.7209 - accuracy: 0.5817\n",
            "Epoch 3: val_accuracy improved from 0.50161 to 0.76602, saving model to total_we_v2.h5\n",
            "1594/1594 [==============================] - 15s 10ms/step - loss: 0.7209 - accuracy: 0.5817 - val_loss: 0.5849 - val_accuracy: 0.7660\n",
            "Epoch 4/100\n",
            "1594/1594 [==============================] - ETA: 0s - loss: 1.7121 - accuracy: 0.6960\n",
            "Epoch 4: val_accuracy did not improve from 0.76602\n",
            "1594/1594 [==============================] - 13s 8ms/step - loss: 1.7121 - accuracy: 0.6960 - val_loss: 2.1104 - val_accuracy: 0.7271\n",
            "Epoch 5/100\n",
            "1594/1594 [==============================] - ETA: 0s - loss: 1.1161 - accuracy: 0.8167\n",
            "Epoch 5: val_accuracy improved from 0.76602 to 0.85529, saving model to total_we_v2.h5\n",
            "1594/1594 [==============================] - 13s 8ms/step - loss: 1.1161 - accuracy: 0.8167 - val_loss: 0.3562 - val_accuracy: 0.8553\n",
            "Epoch 6/100\n",
            "1594/1594 [==============================] - ETA: 0s - loss: 0.2983 - accuracy: 0.8936\n",
            "Epoch 6: val_accuracy improved from 0.85529 to 0.86010, saving model to total_we_v2.h5\n",
            "1594/1594 [==============================] - 13s 8ms/step - loss: 0.2983 - accuracy: 0.8936 - val_loss: 0.3469 - val_accuracy: 0.8601\n",
            "Epoch 7/100\n",
            "1594/1594 [==============================] - ETA: 0s - loss: 0.2687 - accuracy: 0.9062\n",
            "Epoch 7: val_accuracy did not improve from 0.86010\n",
            "1594/1594 [==============================] - 12s 8ms/step - loss: 0.2687 - accuracy: 0.9062 - val_loss: 0.3508 - val_accuracy: 0.8597\n",
            "Epoch 8/100\n",
            "1594/1594 [==============================] - ETA: 0s - loss: 0.2297 - accuracy: 0.9230\n",
            "Epoch 8: val_accuracy did not improve from 0.86010\n",
            "1594/1594 [==============================] - 13s 8ms/step - loss: 0.2297 - accuracy: 0.9230 - val_loss: 0.3530 - val_accuracy: 0.8506\n",
            "Epoch 9/100\n",
            "1594/1594 [==============================] - ETA: 0s - loss: 0.2061 - accuracy: 0.9335\n",
            "Epoch 9: val_accuracy did not improve from 0.86010\n",
            "1594/1594 [==============================] - 12s 7ms/step - loss: 0.2061 - accuracy: 0.9335 - val_loss: 0.4785 - val_accuracy: 0.8539\n",
            "Epoch 10/100\n",
            "1594/1594 [==============================] - ETA: 0s - loss: 0.1777 - accuracy: 0.9432\n",
            "Epoch 10: val_accuracy did not improve from 0.86010\n",
            "1594/1594 [==============================] - 12s 8ms/step - loss: 0.1777 - accuracy: 0.9432 - val_loss: 0.4823 - val_accuracy: 0.8525\n",
            "Epoch 11/100\n",
            "1594/1594 [==============================] - ETA: 0s - loss: 0.1624 - accuracy: 0.9489\n",
            "Epoch 11: val_accuracy did not improve from 0.86010\n",
            "1594/1594 [==============================] - 12s 7ms/step - loss: 0.1624 - accuracy: 0.9489 - val_loss: 0.6507 - val_accuracy: 0.8493\n",
            "Epoch 11: early stopping\n"
          ]
        }
      ]
    },
    {
      "cell_type": "code",
      "source": [
        "loss_n, accuracy_n = model_n_v2.evaluate(test_X_n, test_y_n)\n",
        "loss_s, accuracy_s = model_s_v2.evaluate(test_X_s, test_y_s)\n",
        "loss_t, accuracy_t = model_t_v2.evaluate(test_X_t, test_y_t)\n",
        "print(f\"Naver loss: {loss_n:.4f}, Test accuracy: {accuracy_n*100:.2f}%\")\n",
        "print(f\"Steam loss: {loss_s:.4f}, Test accuracy: {accuracy_s*100:.2f}%\")\n",
        "print(f\"Total loss: {loss_t:.4f}, Test accuracy: {accuracy_t*100:.2f}%\")"
      ],
      "metadata": {
        "colab": {
          "base_uri": "https://localhost:8080/"
        },
        "id": "Cg3mhXtrSg29",
        "outputId": "43a32227-2d30-4984-cf4c-268ba2f87cfc"
      },
      "execution_count": 37,
      "outputs": [
        {
          "output_type": "stream",
          "name": "stdout",
          "text": [
            "625/625 [==============================] - 2s 3ms/step - loss: 0.6931 - accuracy: 0.4942\n",
            "625/625 [==============================] - 2s 3ms/step - loss: 1.2871 - accuracy: 0.7490\n",
            "1875/1875 [==============================] - 6s 3ms/step - loss: 0.6388 - accuracy: 0.8528\n",
            "Naver loss: 0.6931, Test accuracy: 49.42%\n",
            "Steam loss: 1.2871, Test accuracy: 74.90%\n",
            "Total loss: 0.6388, Test accuracy: 85.28%\n"
          ]
        }
      ]
    },
    {
      "cell_type": "markdown",
      "source": [
        "# 다른 방법 탐색.\n",
        "* 허깅페이스의 kcbert를 이용해봄\n",
        "![image.png](data:image/png;base64,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)"
      ],
      "metadata": {
        "id": "rrRryzgoVBsN"
      }
    }
  ]
}